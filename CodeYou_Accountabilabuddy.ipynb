{
 "cells": [
  {
   "cell_type": "code",
   "execution_count": 1,
   "id": "c3929206-e513-417d-84d5-40e35d5ef050",
   "metadata": {},
   "outputs": [],
   "source": [
    "# Initiates Empty Python dictionary in the variable weekly_tasks\n",
    "\n",
    "weekly_tasks = {}"
   ]
  },
  {
   "cell_type": "code",
   "execution_count": 2,
   "id": "764609f5-0888-4b05-9ed1-91a96950a1bf",
   "metadata": {},
   "outputs": [],
   "source": [
    "# Initiates a list with the weekdays as strings in the variable weekdays\n",
    "\n",
    "weekdays = ['Monday', 'Tuesday', 'Wednesday', 'Thursday', 'Friday']"
   ]
  },
  {
   "cell_type": "code",
   "execution_count": 3,
   "id": "d84f871c-b463-44f8-aef5-300af7d2d782",
   "metadata": {},
   "outputs": [],
   "source": [
    "# Initiates a list with the days of the weekend as string in the variable weekends\n",
    "\n",
    "weekend_days = ['Saturday', 'Sunday']"
   ]
  },
  {
   "cell_type": "code",
   "execution_count": 4,
   "id": "13c06bc3-9d18-4f67-a250-e4670012a622",
   "metadata": {},
   "outputs": [
    {
     "name": "stdout",
     "output_type": "stream",
     "text": [
      "Hello, I'm here to help you track your weekly tasks! We'll create a worklist day by day to help you stay on track with your weekly goals!\n"
     ]
    }
   ],
   "source": [
    "# Greets the user and announces the purpose of the program\n",
    "\n",
    "print(\"Hello, I'm here to help you track your weekly tasks! We'll create a worklist day by day to help you stay on track with your weekly goals!\")"
   ]
  },
  {
   "cell_type": "code",
   "execution_count": 5,
   "id": "08d2cef4-d769-402e-97f2-bd902498e6ef",
   "metadata": {},
   "outputs": [
    {
     "name": "stdin",
     "output_type": "stream",
     "text": [
      "To start let's make a list of tasks that we aim to accomplish every weekday. We will add these one at a time. To add a task to be accomplished every weekday type it here, otherwise type 'done' Work\n",
      "To start let's make a list of tasks that we aim to accomplish every weekday. We will add these one at a time. To add a task to be accomplished every weekday type it here, otherwise type 'done' Gym\n",
      "To start let's make a list of tasks that we aim to accomplish every weekday. We will add these one at a time. To add a task to be accomplished every weekday type it here, otherwise type 'done' Read\n",
      "To start let's make a list of tasks that we aim to accomplish every weekday. We will add these one at a time. To add a task to be accomplished every weekday type it here, otherwise type 'done' Write Python\n",
      "To start let's make a list of tasks that we aim to accomplish every weekday. We will add these one at a time. To add a task to be accomplished every weekday type it here, otherwise type 'done' done\n",
      "Now let's make a list of tasks that we aim to accomplish every weekend day. Similarly, to add a task to be accomplished every weekday type it here, otherwise type 'done' Write Python\n",
      "Now let's make a list of tasks that we aim to accomplish every weekend day. Similarly, to add a task to be accomplished every weekday type it here, otherwise type 'done' Clean house\n",
      "Now let's make a list of tasks that we aim to accomplish every weekend day. Similarly, to add a task to be accomplished every weekday type it here, otherwise type 'done' Do laundry\n",
      "Now let's make a list of tasks that we aim to accomplish every weekend day. Similarly, to add a task to be accomplished every weekday type it here, otherwise type 'done' done\n"
     ]
    }
   ],
   "source": [
    "# Creates two lists to store our weekday and weekend goals, note we are creating these outside of our for loop, if blank lists were created inside the\n",
    "# loop then we would be renewed as blank every time through. Two variables as blank strings are also created to control the loops flow. A while loop \n",
    "# is then created that prompts the user for input, initially tasks that are to be completed every day. If logic checks if the task is 'done.' If this is\n",
    "# not the case the item is added to the weekday_goals list. Once we reach a 'done' input from the user for weekdays we initiate a second while loop to \n",
    "# take user input about repeating weekend tasks. When the weekend input is 'done' then a break statement ends the loop and we move on in the program.\n",
    "\n",
    "weekday_goals = []\n",
    "weekend_goals = []\n",
    "weekday_task = ''\n",
    "weekend_task = ''\n",
    "\n",
    "while weekday_task != \"done\":\n",
    "    weekday_task = (input(\"To start let's make a list of tasks that we aim to accomplish every weekday. We will add these one at a time. To add a task to be accomplished every weekday type it here, otherwise type 'done'\"))\n",
    "    if weekday_task != \"done\":\n",
    "        weekday_goals.append(weekday_task)\n",
    "    if weekday_task == 'done':\n",
    "        while weekend_task != 'done':\n",
    "            weekend_task = (input(\"Now let's make a list of tasks that we aim to accomplish every weekend day. Similarly, to add a task to be accomplished every weekday type it here, otherwise type 'done'\"))\n",
    "            if weekend_task != \"done\":\n",
    "                weekend_goals.append(weekend_task)\n",
    "            if weekend_task == 'done':\n",
    "                break"
   ]
  },
  {
   "cell_type": "code",
   "execution_count": 6,
   "id": "c001236c-aacb-4404-85f6-6a32b00c09e7",
   "metadata": {},
   "outputs": [],
   "source": [
    "# Initially a for loop is created to iterate through the items of the list 'weekdays' namely the name of the weekdays. This list then updates our blank\n",
    "# dictionary from the first cell with each day of the week as the key and the list created in the above cell as the value. Similarly we iterate through]\n",
    "# the days of the weekend adding those days and their list as dictionary items as well.\n",
    "\n",
    "for i in weekdays:\n",
    "    weekday_tasks = list.copy(weekday_goals)\n",
    "    weekly_tasks.update({i:weekday_tasks})\n",
    "for i in weekend_days:\n",
    "    weekend_day_tasks = list.copy(weekend_goals)\n",
    "    weekly_tasks.update({i: weekend_day_tasks})"
   ]
  },
  {
   "cell_type": "code",
   "execution_count": 7,
   "id": "8b1538a8-1997-4e2c-85f3-2f53981fc8b2",
   "metadata": {},
   "outputs": [
    {
     "name": "stdout",
     "output_type": "stream",
     "text": [
      "Now we'll add tasks that are specific to certain days.\n"
     ]
    },
    {
     "name": "stdin",
     "output_type": "stream",
     "text": [
      "Are there any tasks to add to Monday? If not type 'done' done\n",
      "Are there any tasks to add to Tuesday? If not type 'done' Code:You\n",
      "Are there any tasks to add to Tuesday? If not type 'done' done\n",
      "Are there any tasks to add to Wednesday? If not type 'done' Clean litter box\n",
      "Are there any tasks to add to Wednesday? If not type 'done' done\n",
      "Are there any tasks to add to Thursday? If not type 'done' El Nopal\n",
      "Are there any tasks to add to Thursday? If not type 'done' done\n",
      "Are there any tasks to add to Friday? If not type 'done' Do payroll\n",
      "Are there any tasks to add to Friday? If not type 'done' done\n",
      "Are there any tasks to add to Saturday? If not type 'done' Get Pizza\n",
      "Are there any tasks to add to Saturday? If not type 'done' done\n",
      "Are there any tasks to add to Sunday? If not type 'done' Pray\n",
      "Are there any tasks to add to Sunday? If not type 'done' done\n"
     ]
    }
   ],
   "source": [
    "# Now we announce to the user that we are going to add tasks specific to certain days. We iterate through the days which we now have stored as the keys\n",
    "# in our weely_tasks dictionary. A variable 'unique_task' is initiated as an empty string, and then we check if it stores the value 'done.' If that is \n",
    "# not the case we ask the user if there are any tasks to add for the day corresponding to this time through the loop. If the user entered a task then it\n",
    "# is appended to the list stored as the value for the corresponding day as the key. When the user types 'done' we move on to the next iteration\n",
    "# representing the next day until we've iterated through all seven days.\n",
    "\n",
    "print(\"Now we'll add tasks that are specific to certain days.\")\n",
    "\n",
    "for i in weekly_tasks.keys():\n",
    "    unique_task = ''\n",
    "    while unique_task != 'done':\n",
    "        unique_task = input(\"Are there any tasks to add to \" + i + \"? If not type 'done'\")\n",
    "        if unique_task != 'done':\n",
    "            weekly_tasks[i].append(unique_task)\n",
    "            \n",
    "    "
   ]
  },
  {
   "cell_type": "code",
   "execution_count": 8,
   "id": "8a005f0d-a541-4549-a41f-42ad70576c31",
   "metadata": {},
   "outputs": [
    {
     "name": "stdout",
     "output_type": "stream",
     "text": [
      "Great! Now we have a schedule for the week! Here is your week's schedule: \n",
      "Monday ['Work', 'Gym', 'Read', 'Write Python']\n",
      "Tuesday ['Work', 'Gym', 'Read', 'Write Python', 'Code:You']\n",
      "Wednesday ['Work', 'Gym', 'Read', 'Write Python', 'Clean litter box']\n",
      "Thursday ['Work', 'Gym', 'Read', 'Write Python', 'El Nopal']\n",
      "Friday ['Work', 'Gym', 'Read', 'Write Python', 'Do payroll']\n",
      "Saturday ['Write Python', 'Clean house', 'Do laundry', 'Get Pizza']\n",
      "Sunday ['Write Python', 'Clean house', 'Do laundry', 'Pray']\n"
     ]
    }
   ],
   "source": [
    "# We now announce to the user that we have established a schedule for the week and print it to the console.\n",
    "\n",
    "print(\"Great! Now we have a schedule for the week! Here is your week's schedule: \")\n",
    "\n",
    "for i,j in weekly_tasks.items():\n",
    "    print(i,j)"
   ]
  },
  {
   "cell_type": "code",
   "execution_count": 9,
   "id": "82f1f93e-0cb0-4f29-888b-a985abca98ee",
   "metadata": {},
   "outputs": [],
   "source": [
    "achieved_tasks = {}"
   ]
  },
  {
   "cell_type": "code",
   "execution_count": 10,
   "id": "ffb6fc84-4fd1-4d25-8801-5d950c11b57e",
   "metadata": {},
   "outputs": [
    {
     "name": "stdout",
     "output_type": "stream",
     "text": [
      "Time to cross some items off of our list!\n"
     ]
    },
    {
     "name": "stdin",
     "output_type": "stream",
     "text": [
      "Please type the day you have completed an item for! or 'done' if complete Monday\n",
      "Please type the task that you have completed!  Work\n"
     ]
    },
    {
     "name": "stdout",
     "output_type": "stream",
     "text": [
      "Perfect. Let's go back to the top!\n"
     ]
    },
    {
     "name": "stdin",
     "output_type": "stream",
     "text": [
      "Please type the day you have completed an item for! or 'done' if complete Gym\n"
     ]
    },
    {
     "name": "stdout",
     "output_type": "stream",
     "text": [
      "I'm sorry but that's not a valid day. Try again!\n"
     ]
    },
    {
     "name": "stdin",
     "output_type": "stream",
     "text": [
      "Please type the day you have completed an item for! or 'done' if complete Monday\n",
      "Please type the task that you have completed!  Gym\n"
     ]
    },
    {
     "name": "stdout",
     "output_type": "stream",
     "text": [
      "Perfect. Let's go back to the top!\n"
     ]
    },
    {
     "name": "stdin",
     "output_type": "stream",
     "text": [
      "Please type the day you have completed an item for! or 'done' if complete Wednesday\n",
      "Please type the task that you have completed!  Write Python\n"
     ]
    },
    {
     "name": "stdout",
     "output_type": "stream",
     "text": [
      "Perfect. Let's go back to the top!\n"
     ]
    },
    {
     "name": "stdin",
     "output_type": "stream",
     "text": [
      "Please type the day you have completed an item for! or 'done' if complete Friday\n",
      "Please type the task that you have completed!  Read\n"
     ]
    },
    {
     "name": "stdout",
     "output_type": "stream",
     "text": [
      "Perfect. Let's go back to the top!\n"
     ]
    },
    {
     "name": "stdin",
     "output_type": "stream",
     "text": [
      "Please type the day you have completed an item for! or 'done' if complete Sunday\n",
      "Please type the task that you have completed!  Pray\n"
     ]
    },
    {
     "name": "stdout",
     "output_type": "stream",
     "text": [
      "Perfect. Let's go back to the top!\n"
     ]
    },
    {
     "name": "stdin",
     "output_type": "stream",
     "text": [
      "Please type the day you have completed an item for! or 'done' if complete done\n"
     ]
    }
   ],
   "source": [
    "# This section is still being worked on. \n",
    "\n",
    "print(\"Time to cross some items off of our list!\")\n",
    "\n",
    "for i in weekly_tasks.keys():\n",
    "    achieved_tasks.setdefault(i, [])\n",
    "\n",
    "finished = False\n",
    "\n",
    "while finished == False:\n",
    "    day = input(\"Please type the day you have completed an item for! or 'done' if complete\")\n",
    "    if day in weekly_tasks.keys():\n",
    "        achieved = input(\"Please type the task that you have completed! \")\n",
    "        if achieved in weekly_tasks[day]:\n",
    "            achieved_value = weekly_tasks[day].pop(weekly_tasks[day].index(achieved))\n",
    "            achieved_tasks[day].append(achieved_value)\n",
    "            print(\"Perfect. Let's go back to the top!\")\n",
    "        else:\n",
    "            print(\"That's not a valid task, let's start from the beginning.\")\n",
    "    elif day == 'done':\n",
    "        finished = True\n",
    "    else:\n",
    "        print(\"I'm sorry but that's not a valid day. Try again!\")\n",
    "\n"
   ]
  },
  {
   "cell_type": "code",
   "execution_count": 14,
   "id": "d70cbc74-ea6d-4b3b-a389-3c5d43a14292",
   "metadata": {},
   "outputs": [
    {
     "name": "stdout",
     "output_type": "stream",
     "text": [
      "Here's what you've achieved so far.\n",
      "Monday ['Work', 'Gym']\n",
      "Tuesday []\n",
      "Wednesday ['Write Python']\n",
      "Thursday []\n",
      "Friday ['Read']\n",
      "Saturday []\n",
      "Sunday ['Pray']\n"
     ]
    }
   ],
   "source": [
    "print(\"Here's what you've achieved so far.\")\n",
    "\n",
    "for i,j in achieved_tasks.items():\n",
    "    print(i,j)"
   ]
  },
  {
   "cell_type": "code",
   "execution_count": 16,
   "id": "f67d5aa0-bba9-4921-87a0-a8bc513e2818",
   "metadata": {},
   "outputs": [
    {
     "name": "stdout",
     "output_type": "stream",
     "text": [
      "Here's what we have left to do.\n",
      "Monday ['Read', 'Write Python']\n",
      "Tuesday ['Work', 'Gym', 'Read', 'Write Python', 'Code:You']\n",
      "Wednesday ['Work', 'Gym', 'Read', 'Clean litter box']\n",
      "Thursday ['Work', 'Gym', 'Read', 'Write Python', 'El Nopal']\n",
      "Friday ['Work', 'Gym', 'Write Python', 'Do payroll']\n",
      "Saturday ['Write Python', 'Clean house', 'Do laundry', 'Get Pizza']\n",
      "Sunday ['Write Python', 'Clean house', 'Do laundry']\n"
     ]
    }
   ],
   "source": [
    "print(\"Here's what we have left to do.\")\n",
    "\n",
    "for i,j in weekly_tasks.items():\n",
    "    print(i,j)"
   ]
  },
  {
   "cell_type": "code",
   "execution_count": null,
   "id": "85f2b058-d9f5-4234-aa43-95113057da5d",
   "metadata": {},
   "outputs": [],
   "source": []
  },
  {
   "cell_type": "code",
   "execution_count": null,
   "id": "d42f2d08-459d-4576-89bd-b9be6c9e48c9",
   "metadata": {},
   "outputs": [],
   "source": []
  }
 ],
 "metadata": {
  "kernelspec": {
   "display_name": "Python 3 (ipykernel)",
   "language": "python",
   "name": "python3"
  },
  "language_info": {
   "codemirror_mode": {
    "name": "ipython",
    "version": 3
   },
   "file_extension": ".py",
   "mimetype": "text/x-python",
   "name": "python",
   "nbconvert_exporter": "python",
   "pygments_lexer": "ipython3",
   "version": "3.11.7"
  }
 },
 "nbformat": 4,
 "nbformat_minor": 5
}
