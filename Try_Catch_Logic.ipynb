{
 "cells": [
  {
   "cell_type": "code",
   "execution_count": 4,
   "id": "ea2f59cb-8a94-40e6-a7ac-c70d24604543",
   "metadata": {},
   "outputs": [],
   "source": [
    "import pandas as pd"
   ]
  },
  {
   "cell_type": "code",
   "execution_count": 8,
   "id": "a0f9b5c0-98d5-4ff2-81a9-aa16ff10cd7c",
   "metadata": {},
   "outputs": [
    {
     "name": "stdin",
     "output_type": "stream",
     "text": [
      "Please enter a price and we will calculate what you would pay after tax. hamburger\n"
     ]
    }
   ],
   "source": [
    "# We take an input from the user expected to be something that can be coerced into a float\n",
    "\n",
    "price = input(\"Please enter a price and we will calculate what you would pay after tax.\")"
   ]
  },
  {
   "cell_type": "code",
   "execution_count": 9,
   "id": "1e269b91-b067-4f3a-bf18-e3877836e0d4",
   "metadata": {},
   "outputs": [
    {
     "name": "stdout",
     "output_type": "stream",
     "text": [
      "I'm sorry, that can not be coerced into an integer, we have encountered a value error.\n",
      "Thank you for using our tax calculator.\n"
     ]
    }
   ],
   "source": [
    "# This is designed to help students understand try/catch logic (this can be referred to as try/except)\n",
    "\n",
    "# The try clause contains a block of code to attempt to run, leading to a couple of paths upon which the logic can travel down\n",
    "try:\n",
    "    \n",
    "    # The block of code attempted to be run, if this does not error we go down to the else clause (if one exists,) if this does error we access an \n",
    "    # except clause\n",
    "    output = (1.06 * float(price))\n",
    "    \n",
    "# This except block specifies ValueError and will only execute if a Value Error is thrown by the interpreter after running the try clause. A signle try\n",
    "# clause can be followed by as many except clauses as you need, which is useful if you want to handle different errors differently. \n",
    "except ValueError:\n",
    "    \n",
    "    # This is code to be executed if a ValueError was thrown when executing the try clause\n",
    "    print(\"I'm sorry, that can not be coerced into an integer, we have encountered a value error.\")\n",
    "    \n",
    "# An except clause not specifying an error will execute when any error is thrown. Since there is an except above that runs when a ValueError is thrown\n",
    "# this except clause will fire for any error other than a ValueError. If a ValueError is thrown only the above except clause fires\n",
    "except:\n",
    "    \n",
    "    # This is code is to be executed if an error other than ValueError is thrown\n",
    "    print(\"We have encountered an unknown error.\")\n",
    "    \n",
    "# The else clause fires only if there is no error in the try block. This is specifically for logic to be executed in the absence of an error. It is\n",
    "# desirable for this to run, but it may not always do so. This is not mandatory but you will likely see it the majority of the time.\n",
    "else:\n",
    "    \n",
    "    # The logic to be executed in the absence of an error\n",
    "    print('$' + str(round(output, 2)) + \" is the price after tax\")\n",
    "    \n",
    "# The finally block following the finally clause should execute regardless of whether there is an error or not. Finally is not mandatory but gives an\n",
    "# outlet for code you may want to run regardless of whether there is an error.\n",
    "finally:\n",
    "    \n",
    "    # The code to be executed regardless of error at the end of the try/catch logic\n",
    "    print(\"Thank you for using our tax calculator.\")\n",
    "\n"
   ]
  },
  {
   "cell_type": "code",
   "execution_count": 13,
   "id": "95eed2a3-b678-4cae-afe2-219398326a67",
   "metadata": {},
   "outputs": [
    {
     "name": "stdout",
     "output_type": "stream",
     "text": [
      "This error is a(n) <class 'ZeroDivisionError'>\n"
     ]
    }
   ],
   "source": [
    "# This cell illustrates a variety of (coded out) potential errors that you could choose to explicitly catch with except *error type* or allow to be \n",
    "# caught in a blanket except clause\n",
    "\n",
    "# introduces the try clause\n",
    "try:\n",
    "    # coded out errors are below, you can uncomment and run to learn more about the errors associated with the code\n",
    "    # price[11]\n",
    "    # int('hamburger')\n",
    "    # you + me\n",
    "    # 10 / 0   \n",
    "# except ValueError:\n",
    "#     print(\"I'm sorry, that can not be coerced into an integer, we have encountered a value error.\")\n",
    "# except ZeroDivisionError:\n",
    "#     print(\"I'm sorry, you can not divide by zero.\")\n",
    "# This prints the error type should you not choose to introduce an except clause specific to that error type\n",
    "except Exception as e:\n",
    "    print('This error is a(n) ' + str(type(e)))"
   ]
  },
  {
   "cell_type": "code",
   "execution_count": 17,
   "id": "7105ff17-f575-40d6-9061-b5d5e1a3ab17",
   "metadata": {},
   "outputs": [
    {
     "name": "stdin",
     "output_type": "stream",
     "text": [
      "Please type '5'! 5\n"
     ]
    }
   ],
   "source": [
    "# Take an input from the user explicitly asking for the integer 5\n",
    "num = input(\"Please type '5'!\")"
   ]
  },
  {
   "cell_type": "code",
   "execution_count": 18,
   "id": "0afd8ef9-0dd1-45b3-b7bc-27a578b287bc",
   "metadata": {},
   "outputs": [
    {
     "name": "stdout",
     "output_type": "stream",
     "text": [
      "Sweet!\n"
     ]
    }
   ],
   "source": [
    "# If the user supplied input is not 5 then raise an error\n",
    "if int(num) != 5:\n",
    "    # Raise an error with the message 'oh man, that's not 5!\n",
    "    raise Exception(\"Oh man, that's not 5!\")\n",
    "# If the user does enter 5 then let them know they were correct\n",
    "else:\n",
    "    # Good job\n",
    "    print(\"Sweet!\")"
   ]
  },
  {
   "cell_type": "code",
   "execution_count": 20,
   "id": "1bc8d7a4-2701-40a1-a8e5-b232935ec3d0",
   "metadata": {},
   "outputs": [
    {
     "data": {
      "text/html": [
       "<div>\n",
       "<style scoped>\n",
       "    .dataframe tbody tr th:only-of-type {\n",
       "        vertical-align: middle;\n",
       "    }\n",
       "\n",
       "    .dataframe tbody tr th {\n",
       "        vertical-align: top;\n",
       "    }\n",
       "\n",
       "    .dataframe thead th {\n",
       "        text-align: right;\n",
       "    }\n",
       "</style>\n",
       "<table border=\"1\" class=\"dataframe\">\n",
       "  <thead>\n",
       "    <tr style=\"text-align: right;\">\n",
       "      <th></th>\n",
       "      <th>Galaxy_Sentiment</th>\n",
       "      <th>Google_Trends_Score</th>\n",
       "      <th>inflation</th>\n",
       "      <th>Electronics and Appliances Quarterly Retail Sales</th>\n",
       "      <th>Personal_Income</th>\n",
       "      <th>Percent Change in PCE</th>\n",
       "    </tr>\n",
       "    <tr>\n",
       "      <th>Date</th>\n",
       "      <th></th>\n",
       "      <th></th>\n",
       "      <th></th>\n",
       "      <th></th>\n",
       "      <th></th>\n",
       "      <th></th>\n",
       "    </tr>\n",
       "  </thead>\n",
       "  <tbody>\n",
       "    <tr>\n",
       "      <th>2022-01-01</th>\n",
       "      <td>73.0</td>\n",
       "      <td>13</td>\n",
       "      <td>6.0</td>\n",
       "      <td>12837</td>\n",
       "      <td>21205.7</td>\n",
       "      <td>0.5</td>\n",
       "    </tr>\n",
       "    <tr>\n",
       "      <th>2022-01-02</th>\n",
       "      <td>75.0</td>\n",
       "      <td>94</td>\n",
       "      <td>6.0</td>\n",
       "      <td>12837</td>\n",
       "      <td>21205.7</td>\n",
       "      <td>0.5</td>\n",
       "    </tr>\n",
       "    <tr>\n",
       "      <th>2022-01-03</th>\n",
       "      <td>71.0</td>\n",
       "      <td>94</td>\n",
       "      <td>6.0</td>\n",
       "      <td>12837</td>\n",
       "      <td>21205.7</td>\n",
       "      <td>0.5</td>\n",
       "    </tr>\n",
       "    <tr>\n",
       "      <th>2022-01-04</th>\n",
       "      <td>74.0</td>\n",
       "      <td>94</td>\n",
       "      <td>6.0</td>\n",
       "      <td>12837</td>\n",
       "      <td>21205.7</td>\n",
       "      <td>0.5</td>\n",
       "    </tr>\n",
       "    <tr>\n",
       "      <th>2022-01-05</th>\n",
       "      <td>70.0</td>\n",
       "      <td>94</td>\n",
       "      <td>6.0</td>\n",
       "      <td>12837</td>\n",
       "      <td>21205.7</td>\n",
       "      <td>0.5</td>\n",
       "    </tr>\n",
       "    <tr>\n",
       "      <th>...</th>\n",
       "      <td>...</td>\n",
       "      <td>...</td>\n",
       "      <td>...</td>\n",
       "      <td>...</td>\n",
       "      <td>...</td>\n",
       "      <td>...</td>\n",
       "    </tr>\n",
       "    <tr>\n",
       "      <th>2022-12-27</th>\n",
       "      <td>74.0</td>\n",
       "      <td>100</td>\n",
       "      <td>5.7</td>\n",
       "      <td>15871</td>\n",
       "      <td>22281.9</td>\n",
       "      <td>0.2</td>\n",
       "    </tr>\n",
       "    <tr>\n",
       "      <th>2022-12-28</th>\n",
       "      <td>74.0</td>\n",
       "      <td>100</td>\n",
       "      <td>5.7</td>\n",
       "      <td>15871</td>\n",
       "      <td>22281.9</td>\n",
       "      <td>0.2</td>\n",
       "    </tr>\n",
       "    <tr>\n",
       "      <th>2022-12-29</th>\n",
       "      <td>74.0</td>\n",
       "      <td>100</td>\n",
       "      <td>5.7</td>\n",
       "      <td>15871</td>\n",
       "      <td>22281.9</td>\n",
       "      <td>0.2</td>\n",
       "    </tr>\n",
       "    <tr>\n",
       "      <th>2022-12-30</th>\n",
       "      <td>74.0</td>\n",
       "      <td>100</td>\n",
       "      <td>5.7</td>\n",
       "      <td>15871</td>\n",
       "      <td>22281.9</td>\n",
       "      <td>0.2</td>\n",
       "    </tr>\n",
       "    <tr>\n",
       "      <th>2022-12-31</th>\n",
       "      <td>74.0</td>\n",
       "      <td>100</td>\n",
       "      <td>5.7</td>\n",
       "      <td>15871</td>\n",
       "      <td>22281.9</td>\n",
       "      <td>0.2</td>\n",
       "    </tr>\n",
       "  </tbody>\n",
       "</table>\n",
       "<p>365 rows × 6 columns</p>\n",
       "</div>"
      ],
      "text/plain": [
       "            Galaxy_Sentiment  Google_Trends_Score  inflation  \\\n",
       "Date                                                           \n",
       "2022-01-01              73.0                   13        6.0   \n",
       "2022-01-02              75.0                   94        6.0   \n",
       "2022-01-03              71.0                   94        6.0   \n",
       "2022-01-04              74.0                   94        6.0   \n",
       "2022-01-05              70.0                   94        6.0   \n",
       "...                      ...                  ...        ...   \n",
       "2022-12-27              74.0                  100        5.7   \n",
       "2022-12-28              74.0                  100        5.7   \n",
       "2022-12-29              74.0                  100        5.7   \n",
       "2022-12-30              74.0                  100        5.7   \n",
       "2022-12-31              74.0                  100        5.7   \n",
       "\n",
       "            Electronics and Appliances Quarterly Retail Sales  \\\n",
       "Date                                                            \n",
       "2022-01-01                                              12837   \n",
       "2022-01-02                                              12837   \n",
       "2022-01-03                                              12837   \n",
       "2022-01-04                                              12837   \n",
       "2022-01-05                                              12837   \n",
       "...                                                       ...   \n",
       "2022-12-27                                              15871   \n",
       "2022-12-28                                              15871   \n",
       "2022-12-29                                              15871   \n",
       "2022-12-30                                              15871   \n",
       "2022-12-31                                              15871   \n",
       "\n",
       "            Personal_Income  Percent Change in PCE  \n",
       "Date                                                \n",
       "2022-01-01          21205.7                    0.5  \n",
       "2022-01-02          21205.7                    0.5  \n",
       "2022-01-03          21205.7                    0.5  \n",
       "2022-01-04          21205.7                    0.5  \n",
       "2022-01-05          21205.7                    0.5  \n",
       "...                     ...                    ...  \n",
       "2022-12-27          22281.9                    0.2  \n",
       "2022-12-28          22281.9                    0.2  \n",
       "2022-12-29          22281.9                    0.2  \n",
       "2022-12-30          22281.9                    0.2  \n",
       "2022-12-31          22281.9                    0.2  \n",
       "\n",
       "[365 rows x 6 columns]"
      ]
     },
     "execution_count": 20,
     "metadata": {},
     "output_type": "execute_result"
    }
   ],
   "source": [
    "df = pd.read_csv('c:/users/bourb/downloads/Supplemental_Data_07_08.csv')\n",
    "\n",
    "df.columns = ['Date', 'Galaxy_Sentiment', 'Cooktop_Promo', 'Showtime_Promo',\n",
    "       'Google_Trends_Score', 'inflation',\n",
    "       'Electronics and Appliances Quarterly Retail Sales', 'Personal_Income',\n",
    "       'Percent Change in PCE']\n",
    "\n",
    "df = df.drop(['Cooktop_Promo', 'Showtime_Promo'], axis='columns')\n",
    "\n",
    "df = df.set_index('Date')\n",
    "\n",
    "df"
   ]
  },
  {
   "cell_type": "code",
   "execution_count": null,
   "id": "f2a6948e-b771-4ea9-9987-202673121f9c",
   "metadata": {},
   "outputs": [],
   "source": []
  }
 ],
 "metadata": {
  "kernelspec": {
   "display_name": "Python 3 (ipykernel)",
   "language": "python",
   "name": "python3"
  },
  "language_info": {
   "codemirror_mode": {
    "name": "ipython",
    "version": 3
   },
   "file_extension": ".py",
   "mimetype": "text/x-python",
   "name": "python",
   "nbconvert_exporter": "python",
   "pygments_lexer": "ipython3",
   "version": "3.11.7"
  }
 },
 "nbformat": 4,
 "nbformat_minor": 5
}
